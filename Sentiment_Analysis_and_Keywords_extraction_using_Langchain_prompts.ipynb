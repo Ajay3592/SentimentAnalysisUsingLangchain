{
  "cells": [
    {
      "cell_type": "code",
      "execution_count": null,
      "metadata": {
        "colab": {
          "base_uri": "https://localhost:8080/",
          "height": 1000
        },
        "collapsed": true,
        "id": "ZrDZF1A2kZlZ",
        "outputId": "e52d5f38-3feb-45dd-c382-d0000d08a9c7"
      },
      "outputs": [],
      "source": [
        "#!pip install langchain langgraph\n",
        "#!pip install -U langchain-google-genai"
      ]
    },
    {
      "cell_type": "code",
      "execution_count": 53,
      "metadata": {
        "id": "FMB1tKKdKAxy"
      },
      "outputs": [],
      "source": [
        "from langchain.chat_models import init_chat_model\n",
        "from langchain.prompts import PromptTemplate\n",
        "from langchain.chains import LLMChain"
      ]
    },
    {
      "cell_type": "code",
      "execution_count": null,
      "metadata": {},
      "outputs": [],
      "source": [
        "GEMENI_API_KEY = \"\""
      ]
    },
    {
      "cell_type": "code",
      "execution_count": null,
      "metadata": {
        "id": "fsQrJXs4SB8C"
      },
      "outputs": [],
      "source": [
        "llm = init_chat_model(\"google_genai:gemini-2.0-flash\", google_api_key=GEMENI_API_KEY)"
      ]
    },
    {
      "cell_type": "code",
      "execution_count": 56,
      "metadata": {
        "id": "YW8C8Q7iTJfL"
      },
      "outputs": [],
      "source": [
        "sentiment_prompt = PromptTemplate(\n",
        "    input_variables=[\"text\"],\n",
        "    template=\"Analyze the sentiment of the following text and respond with Positive, Negative, or Neutral:\\n\\n{text}\"\n",
        ")\n",
        "\n",
        "threat_prompt = PromptTemplate(\n",
        "    input_variables=[\"text\"],\n",
        "    template=\"Identify any threat-related words in the following sentence. Return only the words that indicate potential harm, violence, or danger.{text}\"\n",
        ")\n",
        "\n",
        "named_entity_prompt = PromptTemplate(\n",
        "    input_variables=[\"text\"],\n",
        "    template=\"Analyze the given text and identify the names and places, organizations, devices in the text.{text}\"\n",
        ")"
      ]
    },
    {
      "cell_type": "code",
      "execution_count": 57,
      "metadata": {
        "id": "GK6LSbI4UAvO"
      },
      "outputs": [],
      "source": [
        "sentiment_chain = LLMChain(llm = llm, prompt = sentiment_prompt)\n",
        "threat_chain =  LLMChain(llm = llm, prompt = threat_prompt)\n",
        "summary_chain =  LLMChain(llm = llm, prompt = named_entity_prompt)"
      ]
    },
    {
      "cell_type": "code",
      "execution_count": 58,
      "metadata": {
        "id": "AHZ_Ea0JVL5_"
      },
      "outputs": [],
      "source": [
        "def analyze_text(text):\n",
        "    sentiment = sentiment_chain.run(text).strip()\n",
        "    threats = threat_chain.run(text).strip()\n",
        "    summary = summary_chain.run(text).strip()\n",
        "\n",
        "    return {\n",
        "        \"Sentiment\": sentiment,\n",
        "        \"Threat Words\": threats,\n",
        "        \"Named_entities\": summary\n",
        "    }"
      ]
    },
    {
      "cell_type": "code",
      "execution_count": 59,
      "metadata": {
        "colab": {
          "base_uri": "https://localhost:8080/"
        },
        "id": "u2FcSjo_hz7-",
        "outputId": "6b2b15a5-4856-41a0-ebc3-d5705cd84c4e"
      },
      "outputs": [
        {
          "name": "stdout",
          "output_type": "stream",
          "text": [
            "Sentiment: Negative\n",
            "Threat Words: *   threatened\n",
            "*   attack\n",
            "*   harm\n",
            "*   terrified\n",
            "Named_entities: Based on the provided text, I can identify the following:\n",
            "\n",
            "*   **Names:** None explicitly mentioned.\n",
            "*   **Places:** \"facility\" (This is a general term, not a specific place name.)\n",
            "*   **Organizations:** None explicitly mentioned.\n",
            "*   **Devices:** None explicitly mentioned.\n"
          ]
        }
      ],
      "source": [
        "input_text = \"\"\"\n",
        "The situation is getting worse. He threatened to attack the facility and harm the staff.\n",
        "People are terrified and unsure of what will happen next.\n",
        "\"\"\"\n",
        "\n",
        "result = analyze_text(input_text)\n",
        "\n",
        "for key, value in result.items():\n",
        "    print(f\"{key}: {value}\")"
      ]
    }
  ],
  "metadata": {
    "colab": {
      "provenance": []
    },
    "kernelspec": {
      "display_name": "Python 3",
      "name": "python3"
    },
    "language_info": {
      "name": "python"
    }
  },
  "nbformat": 4,
  "nbformat_minor": 0
}
